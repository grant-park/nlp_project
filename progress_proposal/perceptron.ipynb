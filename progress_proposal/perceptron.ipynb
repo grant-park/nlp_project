{
 "cells": [
  {
   "cell_type": "code",
   "execution_count": 1,
   "metadata": {
    "collapsed": true
   },
   "outputs": [],
   "source": [
    "import numpy as np\n",
    "import pandas as pd\n",
    "import sys,random,os,csv, random\n",
    "import matplotlib.pyplot as plt\n",
    "from collections import defaultdict\n",
    "\n",
    "# from sklearn.feature_extraction.text import CountVectorizer"
   ]
  },
  {
   "cell_type": "code",
   "execution_count": 2,
   "metadata": {
    "collapsed": true
   },
   "outputs": [],
   "source": [
    "def dict_subtract(vec1, vec2):\n",
    "    \"\"\"treat vec1 and vec2 as dict representations of sparse vectors\"\"\"\n",
    "    out = defaultdict(float)\n",
    "    out.update(vec1)\n",
    "    for k in vec2: out[k] -= vec2[k]\n",
    "    return dict(out)\n",
    "\n",
    "def dict_add(vec1, vec2):\n",
    "    out = defaultdict(float)\n",
    "    out.update(vec1)\n",
    "    for k in vec2: out[k] += vec2[k]\n",
    "    return dict(out)\n",
    "\n",
    "def dict_dotprod(d1, d2):\n",
    "    \"\"\"Return the dot product (aka inner product) of two vectors, where each is\n",
    "    represented as a dictionary of {index: weight} pairs, where indexes are any\n",
    "    keys, potentially strings.  If a key does not exist in a dictionary, its\n",
    "    value is assumed to be zero.\"\"\"\n",
    "    smaller = d1 if len(d1)<len(d2) else d2  # BUGFIXED 20151012\n",
    "    total = 0\n",
    "    for key in smaller.keys():\n",
    "        total += d1.get(key,0) * d2.get(key,0)\n",
    "    return total\n",
    "\n",
    "def dict_const_mult(vec, const):\n",
    "    out = defaultdict(float)\n",
    "    out.update(vec)\n",
    "    for k in vec: out[k] = out[k] * const\n",
    "    return dict(out)\n",
    "\n",
    "def dict_argmax(dct):\n",
    "    return max(dct.keys(), key=lambda k: dct[k])"
   ]
  },
  {
   "cell_type": "code",
   "execution_count": 17,
   "metadata": {
    "collapsed": true
   },
   "outputs": [],
   "source": [
    "def plot_accuracy_vs_iteration(accuracies, num_iter):\n",
    "    plt.plot(range(num_iter), accuracies)\n",
    "    plt.xlabel('Iterations')\n",
    "    plt.ylabel('Accuracy')\n",
    "    plt.title('Num. iterations vs Accuracy')\n",
    "    plt.show()\n",
    "    \n",
    "def plot_label_stats(label_counts):\n",
    "#     sum = 0\n",
    "#     for k in label_counts.keys():\n",
    "#         sum += label_counts[k]\n",
    "        \n",
    "    labels = []\n",
    "    counts = []\n",
    "    for k in label_counts.keys():\n",
    "        labels.append(k)\n",
    "        counts.append(label_counts[k])\n",
    "        \n",
    "    print(labels)\n",
    "    print(counts)\n",
    "    print()\n",
    "    print()\n",
    "    plt.pie(counts, labels=labels, autopct='%1.1f%%', startangle=90)\n",
    "    plt.axis('equal')\n",
    "    plt.show()"
   ]
  },
  {
   "cell_type": "code",
   "execution_count": 4,
   "metadata": {
    "collapsed": false
   },
   "outputs": [],
   "source": [
    "class Perceptron(object):\n",
    "    \n",
    "    def __init__(self, eta=0.01, n_iter=50):\n",
    "        self.eta = eta #learning rate eta\n",
    "        self.n_iter = n_iter #number of epochs (passes)\n",
    "        self._weights = defaultdict(float)\n",
    "        \n",
    "    def fit(self, train_tweets, gold_labels, test_tweets=None, test_gold_labels=None):\n",
    "        \n",
    "        # self._errors = [] # array of misclassifications in every epoch (pass)\n",
    "        accuracies = []\n",
    "        train_data = [(t, l) for t, l in zip(train_tweets, gold_labels)]\n",
    "        for i in range(self.n_iter):\n",
    "            random.shuffle(train_data)\n",
    "            for tweet, gold_label in train_data:\n",
    "                predict_label = self.predict(tweet)\n",
    "                \n",
    "                if predict_label != gold_label:\n",
    "                    pred_feats = features_per_tweet(tweet, predict_label)\n",
    "                    gold_feats = features_per_tweet(tweet, gold_label)\n",
    "                    \n",
    "                    diff_feats = dict_subtract(gold_feats, pred_feats)\n",
    "                    update = dict_const_mult(diff_feats, self.eta)\n",
    "                    self._weights.update(dict_add(self._weights, update))\n",
    "                \n",
    "            print()\n",
    "            print()\n",
    "            print(\"Iter. \", i, \" - TRAIN RAW EVAL\")\n",
    "            accuracy = self.do_evaluation(train_tweets, gold_labels)\n",
    "            accuracies.append(accuracy)\n",
    "            if test_tweets and test_gold_labels:\n",
    "                print(\"Iter. \", i, \" - TEST  RAW EVAL\")\n",
    "                self.do_evaluation(test_tweets, test_gold_labels)\n",
    "                \n",
    "        plot_accuracy_vs_iteration(accuracies, self.n_iter)\n",
    "        return self\n",
    "    \n",
    "    def do_evaluation(self, tweets, labels):\n",
    "        num_correct, num_total = 0,0\n",
    "        for tweet, label in zip(tweets, labels):\n",
    "            predict_label = self.predict(tweet)\n",
    "            num_correct += 1 if predict_label == label else 0\n",
    "            num_total += 1\n",
    "        print(\"%d/%d = %.4f accuracy\" % (num_correct, num_total, num_correct/num_total))\n",
    "        return num_correct/num_total\n",
    "        \n",
    "    def predict(self, tweet):\n",
    "        # \"one-vs-all\" strategy later\n",
    "        label_dict = {}\n",
    "        hillary_features = features_per_tweet(tweet, \"Hillary Clinton\")\n",
    "        hillary_linear_comb = dict_dotprod(hillary_features, self._weights)\n",
    "        label_dict[\"Hillary Clinton\"] = hillary_linear_comb\n",
    "        \n",
    "        atheism_features = features_per_tweet(tweet, \"Atheism\")\n",
    "        atheism_linear_comb = dict_dotprod(hillary_features, self._weights)\n",
    "        label_dict[\"Atheism\"] = atheism_linear_comb\n",
    "        \n",
    "        climate_features = features_per_tweet(tweet, \"Climate Change is a Real Concern\")\n",
    "        climate_linear_comb = dict_dotprod(hillary_features, self._weights)\n",
    "        label_dict[\"Climate Change is a Real Concern\"] = climate_linear_comb\n",
    "        \n",
    "        donald_features = features_per_tweet(tweet, \"Donald Trump\")\n",
    "        donald_linear_comb = dict_dotprod(hillary_features, self._weights)\n",
    "        label_dict[\"Donald Trump\"] = donald_linear_comb\n",
    "        \n",
    "        feminist_features = features_per_tweet(tweet, \"Feminist Movement\")\n",
    "        feminist_linear_comb = dict_dotprod(hillary_features, self._weights)\n",
    "        label_dict[\"Feminist Movement\"] = feminist_linear_comb\n",
    "        \n",
    "        abortion_features = features_per_tweet(tweet, \"Legalization of Abortion\")\n",
    "        abortion_linear_comb = dict_dotprod(hillary_features, self._weights)\n",
    "        label_dict[\"Legalization of Abortion\"] = abortion_linear_comb\n",
    "        \n",
    "        return dict_argmax(label_dict)\n",
    "    \n",
    "#         if hillary_linear_comb > len(tweet):\n",
    "#             return \"Hillary Clinton\"\n",
    "#         elif atheism_linear_comb > len(tweet):\n",
    "#             return \"Atheism\"\n",
    "#         elif climate_linear_comb > len(tweet):\n",
    "#             return \"Climate Change is a Real Concern\"\n",
    "#         elif feminist_linear_comb > len(tweet):\n",
    "#             return \"Feminist Movement\"\n",
    "#         elif abortion_linear_comb > len(tweet):\n",
    "#             return \"Legalization of Abortion\"\n",
    "#         else:\n",
    "#             return \"Donald Trump\"\n",
    "        \n",
    "                                                                 "
   ]
  },
  {
   "cell_type": "code",
   "execution_count": 5,
   "metadata": {
    "collapsed": true
   },
   "outputs": [],
   "source": [
    "def features_per_tweet(tweet, label):\n",
    "    features = {}\n",
    "    # Tokenize tweet\n",
    "    tweet_tokens = tweet.lower().split()\n",
    "    for token in tweet_tokens:\n",
    "        if token not in features:\n",
    "            features[token] = 1\n",
    "        else:\n",
    "            features[token] += 1\n",
    "            \n",
    "        if \"token=%s_label=%s\" % (token, label) not in features:\n",
    "            features[\"token=%s_label=%s\" % (token, label)] = 5\n",
    "        else:\n",
    "            features[\"token=%s_label=%s\" % (token, label)] += 1    \n",
    "    return features"
   ]
  },
  {
   "cell_type": "code",
   "execution_count": 6,
   "metadata": {
    "collapsed": false
   },
   "outputs": [],
   "source": [
    "def process_csv(csv_file_path, start=None, end=None):\n",
    "    tweets, gold_labels = [], []\n",
    "    label_counts = {\n",
    "        \"Hillary Clinton\": 0,\n",
    "        \"Atheism\": 0,\n",
    "        \"Climate Change is a Real Concern\": 0,\n",
    "        \"Feminist Movement\": 0,\n",
    "        \"Legalization of Abortion\": 0,\n",
    "        \"Donald Trump\": 0\n",
    "    }\n",
    "    \n",
    "    with open(csv_file_path, 'r', encoding='utf-8', errors='ignore') as csv_file:\n",
    "        csv_reader = csv.reader(csv_file)\n",
    "        size = sum(1 for _ in csv_reader)\n",
    "        print(\"File size: \", size)\n",
    "        csv_file.seek(0)\n",
    "        \n",
    "        csv_reader = csv.reader(csv_file)\n",
    "        next(csv_reader)\n",
    "        \n",
    "        f = start if start else 0\n",
    "        t = end if end else size-1\n",
    "        for i in range(f, t):\n",
    "            row = next(csv_reader)\n",
    "            tweets.append(row[0]) # row[0] is tweet\n",
    "            gold_labels.append(row[1]) # row[1] is label\n",
    "            label_counts[row[1]] += 1\n",
    "            \n",
    "#         for row in csv_reader:\n",
    "#             tweet = row[0]\n",
    "#             tweets.append(tweet)\n",
    "#             gold_label = row[1]\n",
    "#             gold_labels.append(gold_label)\n",
    "    return tweets, gold_labels, label_counts"
   ]
  },
  {
   "cell_type": "code",
   "execution_count": 20,
   "metadata": {
    "collapsed": false
   },
   "outputs": [
    {
     "name": "stdout",
     "output_type": "stream",
     "text": [
      "File size:  1957\n",
      "['Donald Trump', 'Climate Change is a Real Concern', 'Atheism', 'Feminist Movement', 'Hillary Clinton', 'Legalization of Abortion']\n",
      "[707, 169, 220, 285, 295, 280]\n",
      "\n",
      "\n"
     ]
    },
    {
     "data": {
      "image/png": "[encoded data removed]",
      "text/plain": [
       "<matplotlib.figure.Figure at 0x112fc4198>"
      ]
     },
     "metadata": {},
     "output_type": "display_data"
    }
   ],
   "source": [
    "path = os.getcwd()\n",
    "path = os.path.join(path, \"StanceDataset\")\n",
    "train_path = os.path.join(path, \"train.csv\")\n",
    "test_path = os.path.join(path, \"test.csv\")\n",
    "\n",
    "train_tweets, train_gold_labels, train_label_counts = process_csv(test_path)\n",
    "# test_tweets, test_gold_labels, test_label_counts = process_csv(test_path, start=0, end=98)\n",
    "\n",
    "ppn = Perceptron()\n",
    "# ppn.fit(train_tweets, train_gold_labels)\n",
    "\n",
    "plot_label_stats(train_label_counts)\n",
    "            "
   ]
  },
  {
   "cell_type": "code",
   "execution_count": null,
   "metadata": {
    "collapsed": true
   },
   "outputs": [],
   "source": []
  }
 ],
 "metadata": {
  "kernelspec": {
   "display_name": "Python 3",
   "language": "python",
   "name": "python3"
  },
  "language_info": {
   "codemirror_mode": {
    "name": "ipython",
    "version": 3
   },
   "file_extension": ".py",
   "mimetype": "text/x-python",
   "name": "python",
   "nbconvert_exporter": "python",
   "pygments_lexer": "ipython3",
   "version": "3.5.2"
  }
 },
 "nbformat": 4,
 "nbformat_minor": 1
}
